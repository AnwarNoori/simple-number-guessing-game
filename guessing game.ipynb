{
 "cells": [
  {
   "cell_type": "code",
   "execution_count": null,
   "id": "29fe14c9-b6db-40f1-96ee-583b559ab7f8",
   "metadata": {},
   "outputs": [],
   "source": [
    "import random\n",
    "\n",
    "number=random.randint(0,50)\n",
    "guess=0\n",
    "count=0\n",
    "while guess!=number:\n",
    "    guess=int(input(\"enter guess:\"))\n",
    "    if(guess>number):\n",
    "        print(\"Guess high!\")\n",
    "        count+=1\n",
    "    elif (guess<number):\n",
    "        print(\"Guess low!\")\n",
    "        count+=1\n",
    "    else:\n",
    "        print(f\"After enter {count+1} attemps You win!\")\n",
    "     \n",
    "\n",
    "\n",
    "\n"
   ]
  },
  {
   "cell_type": "markdown",
   "id": "1b6a0ef3-3b43-4cb8-a100-1fb1deeb8d90",
   "metadata": {},
   "source": [
    " "
   ]
  },
  {
   "cell_type": "code",
   "execution_count": null,
   "id": "ae22070e-95b2-4324-8e84-db64fab070ab",
   "metadata": {},
   "outputs": [],
   "source": []
  }
 ],
 "metadata": {
  "kernelspec": {
   "display_name": "Python 3 (ipykernel)",
   "language": "python",
   "name": "python3"
  },
  "language_info": {
   "codemirror_mode": {
    "name": "ipython",
    "version": 3
   },
   "file_extension": ".py",
   "mimetype": "text/x-python",
   "name": "python",
   "nbconvert_exporter": "python",
   "pygments_lexer": "ipython3",
   "version": "3.12.4"
  }
 },
 "nbformat": 4,
 "nbformat_minor": 5
}
